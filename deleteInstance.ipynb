{
 "cells": [
  {
   "cell_type": "code",
   "execution_count": 9,
   "metadata": {},
   "outputs": [
    {
     "name": "stderr",
     "output_type": "stream",
     "text": [
      "/Users/dan/Library/Mobile Documents/com~apple~CloudDocs/Fall-22/701/UnionLabs/venv/lib/python3.8/site-packages/botocore/client.py:625: FutureWarning: The sqs client is currently using a deprecated endpoint: queue.amazonaws.com. In the next minor version this will be moved to sqs.us-east-1.amazonaws.com. See https://github.com/boto/botocore/issues/2705 for more details.\n",
      "  warnings.warn(\n"
     ]
    }
   ],
   "source": [
    "import boto3\n",
    "from botocore.config import Config\n",
    "import time\n",
    "sqsClient = boto3.client('sqs',config = Config(region_name = 'us-east-1'))\n"
   ]
  },
  {
   "cell_type": "code",
   "execution_count": 10,
   "metadata": {},
   "outputs": [],
   "source": [
    "response = client.list_queues(QueueNamePrefix='createQueue')"
   ]
  },
  {
   "cell_type": "code",
   "execution_count": 11,
   "metadata": {},
   "outputs": [
    {
     "data": {
      "text/plain": [
       "{'QueueUrls': ['https://queue.amazonaws.com/780492718645/createQueue.fifo'],\n",
       " 'ResponseMetadata': {'RequestId': 'f406177a-53b5-5006-923b-4b7bd6d776ba',\n",
       "  'HTTPStatusCode': 200,\n",
       "  'HTTPHeaders': {'x-amzn-requestid': 'f406177a-53b5-5006-923b-4b7bd6d776ba',\n",
       "   'date': 'Wed, 30 Nov 2022 16:21:54 GMT',\n",
       "   'content-type': 'text/xml',\n",
       "   'content-length': '324'},\n",
       "  'RetryAttempts': 0}}"
      ]
     },
     "execution_count": 11,
     "metadata": {},
     "output_type": "execute_result"
    }
   ],
   "source": [
    "response"
   ]
  },
  {
   "cell_type": "code",
   "execution_count": 70,
   "metadata": {},
   "outputs": [],
   "source": [
    "response = sqsClient.send_message(\n",
    "    QueueUrl='https://queue.amazonaws.com/780492718645/createQueue.fifo',\n",
    "    MessageBody='DeleteInstance123456',\n",
    "    MessageGroupId='unionLabs'\n",
    ")\n"
   ]
  },
  {
   "cell_type": "code",
   "execution_count": 10,
   "metadata": {},
   "outputs": [
    {
     "name": "stdout",
     "output_type": "stream",
     "text": [
      "1670210636\n",
      "16702106368626502 deleteInstance i-09a8bde0e3d1d1713\n",
      "{'MD5OfMessageBody': '9e6ba69d8704ba368cfa3f0c8b043434', 'MessageId': '9ad2020d-06d5-47a4-a344-f36179fcaee1', 'SequenceNumber': '18874317996884463872', 'ResponseMetadata': {'RequestId': 'ef0c28cd-4ffe-543d-8a3e-74ca2973ca23', 'HTTPStatusCode': 200, 'HTTPHeaders': {'x-amzn-requestid': 'ef0c28cd-4ffe-543d-8a3e-74ca2973ca23', 'date': 'Mon, 05 Dec 2022 03:23:57 GMT', 'content-type': 'text/xml', 'content-length': '431'}, 'RetryAttempts': 0}}\n"
     ]
    }
   ],
   "source": [
    "instanceId = 'i-09a8bde0e3d1d1713'\n",
    "message = 'deleteInstance '+instanceId\n",
    "\n",
    "#timestamp wihtout milliseconds\n",
    "print(str(int(time.time())))\n",
    "print(str(int(time.time()*10e6))+' '+message)\n",
    "message +=' '+str(int(time.time()*10e6))\n",
    "response = sqsClient.send_message(\n",
    "    QueueUrl='https://queue.amazonaws.com/780492718645/createQueue.fifo',\n",
    "    MessageBody=message,\n",
    "    MessageGroupId='unionLabs'\n",
    ")\n",
    "print(response)\n"
   ]
  },
  {
   "cell_type": "code",
   "execution_count": 11,
   "metadata": {},
   "outputs": [
    {
     "name": "stdout",
     "output_type": "stream",
     "text": [
      "deleteSg sg-074a65d5fb9fdbb8e 16702106404418530\n",
      "{'MD5OfMessageBody': '78c391920e6852f5b2b71c754749c0de', 'MessageId': '4b380044-de3a-4c5e-ade3-a18459efa258', 'SequenceNumber': '18874317997710319616', 'ResponseMetadata': {'RequestId': 'c285e171-c4dd-5659-b4ba-bd76a24d5847', 'HTTPStatusCode': 200, 'HTTPHeaders': {'x-amzn-requestid': 'c285e171-c4dd-5659-b4ba-bd76a24d5847', 'date': 'Mon, 05 Dec 2022 03:24:00 GMT', 'content-type': 'text/xml', 'content-length': '431'}, 'RetryAttempts': 0}}\n"
     ]
    }
   ],
   "source": [
    "sg_id = 'sg-074a65d5fb9fdbb8e'\n",
    "message = 'deleteSg '+sg_id\n",
    "message +=' '+str(int(time.time()*10e6))\n",
    "print(message)\n",
    "response = sqsClient.send_message(\n",
    "    QueueUrl='https://sqs.us-east-1.amazonaws.com/780492718645/deleteSg.fifo',\n",
    "    MessageBody=message,\n",
    "    MessageGroupId='unionLabs'\n",
    ")\n",
    "print(response)\n"
   ]
  },
  {
   "cell_type": "code",
   "execution_count": 14,
   "metadata": {},
   "outputs": [
    {
     "name": "stdout",
     "output_type": "stream",
     "text": [
      "createInstance 2 6000 41 16699717936749050\n",
      "createInstance\n",
      "2\n",
      "6000\n",
      "41\n",
      "{'MD5OfMessageBody': 'e8e3b194cf0ed6fc1913489063ea573a', 'MessageId': 'd4417ede-7420-473c-bc05-7d6efd57542d', 'SequenceNumber': '18874256853002991872', 'ResponseMetadata': {'RequestId': 'b44b5f19-d513-5a8f-80cf-031a1481cb4b', 'HTTPStatusCode': 200, 'HTTPHeaders': {'x-amzn-requestid': 'b44b5f19-d513-5a8f-80cf-031a1481cb4b', 'date': 'Fri, 02 Dec 2022 09:03:14 GMT', 'content-type': 'text/xml', 'content-length': '431'}, 'RetryAttempts': 0}}\n"
     ]
    }
   ],
   "source": [
    "import re\n",
    "numOpenInst = 2\n",
    "new_port = 6000\n",
    "port_id = 41\n",
    "message = 'createInstance '+str(numOpenInst)+' '+str(new_port)+' '+str(port_id)\n",
    "message +=' '+str(int(time.time()*10e6))\n",
    "print(message)\n",
    "print(re.findall(r'\\b\\w+\\b', message)[0])\n",
    "print(int(re.findall(r'\\b\\w+\\b', message)[1]))\n",
    "print(int(re.findall(r'\\b\\w+\\b', message)[2]))\n",
    "print(int(re.findall(r'\\b\\w+\\b', message)[3]))\n",
    "response = sqsClient.send_message(\n",
    "    QueueUrl='https://queue.amazonaws.com/780492718645/createQueue.fifo',\n",
    "    MessageBody=message,\n",
    "    MessageGroupId='unionLabs'\n",
    ")\n",
    "print(response)\n"
   ]
  },
  {
   "cell_type": "code",
   "execution_count": null,
   "metadata": {},
   "outputs": [],
   "source": [
    "\n"
   ]
  },
  {
   "cell_type": "code",
   "execution_count": 121,
   "metadata": {},
   "outputs": [
    {
     "name": "stdout",
     "output_type": "stream",
     "text": [
      "deleteSg sg-0f9c29476ab7c0409 16698592431058518\n",
      "deleteSg\n",
      "0f9c29476ab7c0409\n"
     ]
    }
   ],
   "source": [
    "#delete instance\n",
    "import re\n",
    "print(message)\n",
    "print(re.findall(r'\\b\\w+\\b', message)[0])\n",
    "print(re.findall(r'\\b\\w+\\b', message)[2])\n",
    "# ec2Client = boto3.client('ec2',config = Config(region_name = 'us-east-1'))"
   ]
  },
  {
   "cell_type": "code",
   "execution_count": 7,
   "metadata": {},
   "outputs": [
    {
     "name": "stdout",
     "output_type": "stream",
     "text": [
      "<Response [200]>\n",
      "{'code': 200, 'message': 'vnc server started.otp sent via email', 'otp': 'ad9edd16-1a36-48ba-befb-6d4e5c8df495'}\n"
     ]
    }
   ],
   "source": [
    "#make python api request to ec2 instance ip\n",
    "import requests\n",
    "import json\n",
    "import re\n",
    "import time\n",
    "#response = requests.get('http://3.91.155.146:3000/showalldevices')\n",
    "#make api request with query params\n",
    "response = requests.get('http://3.91.155.146:3000/startvnc?email=dandavid@buffalo.edu&port=2')\n",
    "print(response)\n",
    "#parse json response\n",
    "print(response.json())\n"
   ]
  }
 ],
 "metadata": {
  "kernelspec": {
   "display_name": "Python 3.8.9 ('venv': venv)",
   "language": "python",
   "name": "python3"
  },
  "language_info": {
   "codemirror_mode": {
    "name": "ipython",
    "version": 3
   },
   "file_extension": ".py",
   "mimetype": "text/x-python",
   "name": "python",
   "nbconvert_exporter": "python",
   "pygments_lexer": "ipython3",
   "version": "3.8.9"
  },
  "orig_nbformat": 4,
  "vscode": {
   "interpreter": {
    "hash": "760e3ed3dcd5966d7c63bd01e2cf945a6e460cf0983acf400bb41be344f70a34"
   }
  }
 },
 "nbformat": 4,
 "nbformat_minor": 2
}
